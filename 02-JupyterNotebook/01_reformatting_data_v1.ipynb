{
 "cells": [
  {
   "cell_type": "code",
   "execution_count": 1,
   "id": "92c706d2",
   "metadata": {},
   "outputs": [
    {
     "name": "stderr",
     "output_type": "stream",
     "text": [
      "Global seed set to 0\n"
     ]
    }
   ],
   "source": [
    "import pandas as pd\n",
    "import numpy as np\n",
    "import scanpy as sc\n",
    "import os\n",
    "from matplotlib.pyplot import rc_context\n",
    "\n",
    "import sys\n",
    "import warnings\n",
    "\n",
    "import scvi\n",
    "import anndata\n",
    "import matplotlib.pyplot as plt"
   ]
  },
  {
   "cell_type": "code",
   "execution_count": 2,
   "id": "84ee77a3",
   "metadata": {},
   "outputs": [],
   "source": [
    "#set up directory\n",
    "large_root = r\"../03-Out\"\n",
    "results_file = large_root + \"/results_file.h5ad\""
   ]
  },
  {
   "cell_type": "code",
   "execution_count": 3,
   "id": "d775449e",
   "metadata": {},
   "outputs": [
    {
     "name": "stdout",
     "output_type": "stream",
     "text": [
      "scanpy==1.9.2 anndata==0.8.0 umap==0.5.3 numpy==1.23.5 scipy==1.10.0 pandas==1.5.3 scikit-learn==1.2.1 statsmodels==0.13.5 python-igraph==0.10.4 pynndescent==0.5.4\n"
     ]
    }
   ],
   "source": [
    "sc.set_figure_params(dpi=100, color_map = 'viridis_r')\n",
    "sc.settings.verbosity = 1\n",
    "sc.logging.print_header()"
   ]
  },
  {
   "cell_type": "code",
   "execution_count": 6,
   "id": "7bcd1296",
   "metadata": {},
   "outputs": [
    {
     "ename": "UnicodeDecodeError",
     "evalue": "'utf-8' codec can't decode byte 0x8b in position 1: invalid start byte",
     "output_type": "error",
     "traceback": [
      "\u001b[1;31m---------------------------------------------------------------------------\u001b[0m",
      "\u001b[1;31mUnicodeDecodeError\u001b[0m                        Traceback (most recent call last)",
      "Cell \u001b[1;32mIn[6], line 4\u001b[0m\n\u001b[0;32m      1\u001b[0m \u001b[38;5;66;03m# index2 = pd.read_csv(\"../01-data/GSE120575_Sade_Feldman_melanoma_single_cells_TPM_GEO.txt\", delimiter=\"\\t\",skiprows=[0], nrows=0).T\u001b[39;00m\n\u001b[0;32m      3\u001b[0m url \u001b[38;5;241m=\u001b[39m \u001b[38;5;124m\"\u001b[39m\u001b[38;5;124mhttps://www.ncbi.nlm.nih.gov/geo/download/?acc=GSE120575&format=file&file=GSE120575\u001b[39m\u001b[38;5;132;01m%5F\u001b[39;00m\u001b[38;5;124mSade\u001b[39m\u001b[38;5;132;01m%5F\u001b[39;00m\u001b[38;5;124mFeldman\u001b[39m\u001b[38;5;132;01m%5F\u001b[39;00m\u001b[38;5;124mmelanoma\u001b[39m\u001b[38;5;132;01m%5F\u001b[39;00m\u001b[38;5;124msingle\u001b[39m\u001b[38;5;132;01m%5F\u001b[39;00m\u001b[38;5;124mcells\u001b[39m\u001b[38;5;132;01m%5F\u001b[39;00m\u001b[38;5;124mTPM\u001b[39m\u001b[38;5;132;01m%5F\u001b[39;00m\u001b[38;5;124mGEO\u001b[39m\u001b[38;5;132;01m%2E\u001b[39;00m\u001b[38;5;124mtxt\u001b[39m\u001b[38;5;132;01m%2E\u001b[39;00m\u001b[38;5;124mgz\u001b[39m\u001b[38;5;124m\"\u001b[39m\n\u001b[1;32m----> 4\u001b[0m url2 \u001b[38;5;241m=\u001b[39m \u001b[43mpd\u001b[49m\u001b[38;5;241;43m.\u001b[39;49m\u001b[43mread_csv\u001b[49m\u001b[43m(\u001b[49m\u001b[43murl\u001b[49m\u001b[43m,\u001b[49m\u001b[43m \u001b[49m\u001b[43mdelimiter\u001b[49m\u001b[38;5;241;43m=\u001b[39;49m\u001b[38;5;124;43m\"\u001b[39;49m\u001b[38;5;130;43;01m\\t\u001b[39;49;00m\u001b[38;5;124;43m\"\u001b[39;49m\u001b[43m,\u001b[49m\u001b[43mskiprows\u001b[49m\u001b[38;5;241;43m=\u001b[39;49m\u001b[43m[\u001b[49m\u001b[38;5;241;43m0\u001b[39;49m\u001b[43m]\u001b[49m\u001b[43m,\u001b[49m\u001b[43m \u001b[49m\u001b[43mnrows\u001b[49m\u001b[38;5;241;43m=\u001b[39;49m\u001b[38;5;241;43m0\u001b[39;49m\u001b[43m)\u001b[49m\u001b[38;5;241m.\u001b[39mT\n\u001b[0;32m      5\u001b[0m \u001b[38;5;28;01mimport\u001b[39;00m \u001b[38;5;21;01mgzip\u001b[39;00m\n\u001b[0;32m      6\u001b[0m \u001b[38;5;28;01mwith\u001b[39;00m gzip\u001b[38;5;241m.\u001b[39mopen(url2, \u001b[38;5;124m'\u001b[39m\u001b[38;5;124mrb\u001b[39m\u001b[38;5;124m'\u001b[39m) \u001b[38;5;28;01mas\u001b[39;00m f:\n",
      "File \u001b[1;32m~\\anaconda3\\envs\\scrnaseq\\lib\\site-packages\\pandas\\util\\_decorators.py:211\u001b[0m, in \u001b[0;36mdeprecate_kwarg.<locals>._deprecate_kwarg.<locals>.wrapper\u001b[1;34m(*args, **kwargs)\u001b[0m\n\u001b[0;32m    209\u001b[0m     \u001b[38;5;28;01melse\u001b[39;00m:\n\u001b[0;32m    210\u001b[0m         kwargs[new_arg_name] \u001b[38;5;241m=\u001b[39m new_arg_value\n\u001b[1;32m--> 211\u001b[0m \u001b[38;5;28;01mreturn\u001b[39;00m func(\u001b[38;5;241m*\u001b[39margs, \u001b[38;5;241m*\u001b[39m\u001b[38;5;241m*\u001b[39mkwargs)\n",
      "File \u001b[1;32m~\\anaconda3\\envs\\scrnaseq\\lib\\site-packages\\pandas\\util\\_decorators.py:331\u001b[0m, in \u001b[0;36mdeprecate_nonkeyword_arguments.<locals>.decorate.<locals>.wrapper\u001b[1;34m(*args, **kwargs)\u001b[0m\n\u001b[0;32m    325\u001b[0m \u001b[38;5;28;01mif\u001b[39;00m \u001b[38;5;28mlen\u001b[39m(args) \u001b[38;5;241m>\u001b[39m num_allow_args:\n\u001b[0;32m    326\u001b[0m     warnings\u001b[38;5;241m.\u001b[39mwarn(\n\u001b[0;32m    327\u001b[0m         msg\u001b[38;5;241m.\u001b[39mformat(arguments\u001b[38;5;241m=\u001b[39m_format_argument_list(allow_args)),\n\u001b[0;32m    328\u001b[0m         \u001b[38;5;167;01mFutureWarning\u001b[39;00m,\n\u001b[0;32m    329\u001b[0m         stacklevel\u001b[38;5;241m=\u001b[39mfind_stack_level(),\n\u001b[0;32m    330\u001b[0m     )\n\u001b[1;32m--> 331\u001b[0m \u001b[38;5;28;01mreturn\u001b[39;00m func(\u001b[38;5;241m*\u001b[39margs, \u001b[38;5;241m*\u001b[39m\u001b[38;5;241m*\u001b[39mkwargs)\n",
      "File \u001b[1;32m~\\anaconda3\\envs\\scrnaseq\\lib\\site-packages\\pandas\\io\\parsers\\readers.py:950\u001b[0m, in \u001b[0;36mread_csv\u001b[1;34m(filepath_or_buffer, sep, delimiter, header, names, index_col, usecols, squeeze, prefix, mangle_dupe_cols, dtype, engine, converters, true_values, false_values, skipinitialspace, skiprows, skipfooter, nrows, na_values, keep_default_na, na_filter, verbose, skip_blank_lines, parse_dates, infer_datetime_format, keep_date_col, date_parser, dayfirst, cache_dates, iterator, chunksize, compression, thousands, decimal, lineterminator, quotechar, quoting, doublequote, escapechar, comment, encoding, encoding_errors, dialect, error_bad_lines, warn_bad_lines, on_bad_lines, delim_whitespace, low_memory, memory_map, float_precision, storage_options)\u001b[0m\n\u001b[0;32m    935\u001b[0m kwds_defaults \u001b[38;5;241m=\u001b[39m _refine_defaults_read(\n\u001b[0;32m    936\u001b[0m     dialect,\n\u001b[0;32m    937\u001b[0m     delimiter,\n\u001b[1;32m   (...)\u001b[0m\n\u001b[0;32m    946\u001b[0m     defaults\u001b[38;5;241m=\u001b[39m{\u001b[38;5;124m\"\u001b[39m\u001b[38;5;124mdelimiter\u001b[39m\u001b[38;5;124m\"\u001b[39m: \u001b[38;5;124m\"\u001b[39m\u001b[38;5;124m,\u001b[39m\u001b[38;5;124m\"\u001b[39m},\n\u001b[0;32m    947\u001b[0m )\n\u001b[0;32m    948\u001b[0m kwds\u001b[38;5;241m.\u001b[39mupdate(kwds_defaults)\n\u001b[1;32m--> 950\u001b[0m \u001b[38;5;28;01mreturn\u001b[39;00m \u001b[43m_read\u001b[49m\u001b[43m(\u001b[49m\u001b[43mfilepath_or_buffer\u001b[49m\u001b[43m,\u001b[49m\u001b[43m \u001b[49m\u001b[43mkwds\u001b[49m\u001b[43m)\u001b[49m\n",
      "File \u001b[1;32m~\\anaconda3\\envs\\scrnaseq\\lib\\site-packages\\pandas\\io\\parsers\\readers.py:605\u001b[0m, in \u001b[0;36m_read\u001b[1;34m(filepath_or_buffer, kwds)\u001b[0m\n\u001b[0;32m    602\u001b[0m _validate_names(kwds\u001b[38;5;241m.\u001b[39mget(\u001b[38;5;124m\"\u001b[39m\u001b[38;5;124mnames\u001b[39m\u001b[38;5;124m\"\u001b[39m, \u001b[38;5;28;01mNone\u001b[39;00m))\n\u001b[0;32m    604\u001b[0m \u001b[38;5;66;03m# Create the parser.\u001b[39;00m\n\u001b[1;32m--> 605\u001b[0m parser \u001b[38;5;241m=\u001b[39m TextFileReader(filepath_or_buffer, \u001b[38;5;241m*\u001b[39m\u001b[38;5;241m*\u001b[39mkwds)\n\u001b[0;32m    607\u001b[0m \u001b[38;5;28;01mif\u001b[39;00m chunksize \u001b[38;5;129;01mor\u001b[39;00m iterator:\n\u001b[0;32m    608\u001b[0m     \u001b[38;5;28;01mreturn\u001b[39;00m parser\n",
      "File \u001b[1;32m~\\anaconda3\\envs\\scrnaseq\\lib\\site-packages\\pandas\\io\\parsers\\readers.py:1442\u001b[0m, in \u001b[0;36mTextFileReader.__init__\u001b[1;34m(self, f, engine, **kwds)\u001b[0m\n\u001b[0;32m   1439\u001b[0m     \u001b[38;5;28mself\u001b[39m\u001b[38;5;241m.\u001b[39moptions[\u001b[38;5;124m\"\u001b[39m\u001b[38;5;124mhas_index_names\u001b[39m\u001b[38;5;124m\"\u001b[39m] \u001b[38;5;241m=\u001b[39m kwds[\u001b[38;5;124m\"\u001b[39m\u001b[38;5;124mhas_index_names\u001b[39m\u001b[38;5;124m\"\u001b[39m]\n\u001b[0;32m   1441\u001b[0m \u001b[38;5;28mself\u001b[39m\u001b[38;5;241m.\u001b[39mhandles: IOHandles \u001b[38;5;241m|\u001b[39m \u001b[38;5;28;01mNone\u001b[39;00m \u001b[38;5;241m=\u001b[39m \u001b[38;5;28;01mNone\u001b[39;00m\n\u001b[1;32m-> 1442\u001b[0m \u001b[38;5;28mself\u001b[39m\u001b[38;5;241m.\u001b[39m_engine \u001b[38;5;241m=\u001b[39m \u001b[38;5;28;43mself\u001b[39;49m\u001b[38;5;241;43m.\u001b[39;49m\u001b[43m_make_engine\u001b[49m\u001b[43m(\u001b[49m\u001b[43mf\u001b[49m\u001b[43m,\u001b[49m\u001b[43m \u001b[49m\u001b[38;5;28;43mself\u001b[39;49m\u001b[38;5;241;43m.\u001b[39;49m\u001b[43mengine\u001b[49m\u001b[43m)\u001b[49m\n",
      "File \u001b[1;32m~\\anaconda3\\envs\\scrnaseq\\lib\\site-packages\\pandas\\io\\parsers\\readers.py:1753\u001b[0m, in \u001b[0;36mTextFileReader._make_engine\u001b[1;34m(self, f, engine)\u001b[0m\n\u001b[0;32m   1750\u001b[0m     \u001b[38;5;28;01mraise\u001b[39;00m \u001b[38;5;167;01mValueError\u001b[39;00m(msg)\n\u001b[0;32m   1752\u001b[0m \u001b[38;5;28;01mtry\u001b[39;00m:\n\u001b[1;32m-> 1753\u001b[0m     \u001b[38;5;28;01mreturn\u001b[39;00m mapping[engine](f, \u001b[38;5;241m*\u001b[39m\u001b[38;5;241m*\u001b[39m\u001b[38;5;28mself\u001b[39m\u001b[38;5;241m.\u001b[39moptions)\n\u001b[0;32m   1754\u001b[0m \u001b[38;5;28;01mexcept\u001b[39;00m \u001b[38;5;167;01mException\u001b[39;00m:\n\u001b[0;32m   1755\u001b[0m     \u001b[38;5;28;01mif\u001b[39;00m \u001b[38;5;28mself\u001b[39m\u001b[38;5;241m.\u001b[39mhandles \u001b[38;5;129;01mis\u001b[39;00m \u001b[38;5;129;01mnot\u001b[39;00m \u001b[38;5;28;01mNone\u001b[39;00m:\n",
      "File \u001b[1;32m~\\anaconda3\\envs\\scrnaseq\\lib\\site-packages\\pandas\\io\\parsers\\c_parser_wrapper.py:79\u001b[0m, in \u001b[0;36mCParserWrapper.__init__\u001b[1;34m(self, src, **kwds)\u001b[0m\n\u001b[0;32m     76\u001b[0m     kwds\u001b[38;5;241m.\u001b[39mpop(key, \u001b[38;5;28;01mNone\u001b[39;00m)\n\u001b[0;32m     78\u001b[0m kwds[\u001b[38;5;124m\"\u001b[39m\u001b[38;5;124mdtype\u001b[39m\u001b[38;5;124m\"\u001b[39m] \u001b[38;5;241m=\u001b[39m ensure_dtype_objs(kwds\u001b[38;5;241m.\u001b[39mget(\u001b[38;5;124m\"\u001b[39m\u001b[38;5;124mdtype\u001b[39m\u001b[38;5;124m\"\u001b[39m, \u001b[38;5;28;01mNone\u001b[39;00m))\n\u001b[1;32m---> 79\u001b[0m \u001b[38;5;28mself\u001b[39m\u001b[38;5;241m.\u001b[39m_reader \u001b[38;5;241m=\u001b[39m parsers\u001b[38;5;241m.\u001b[39mTextReader(src, \u001b[38;5;241m*\u001b[39m\u001b[38;5;241m*\u001b[39mkwds)\n\u001b[0;32m     81\u001b[0m \u001b[38;5;28mself\u001b[39m\u001b[38;5;241m.\u001b[39munnamed_cols \u001b[38;5;241m=\u001b[39m \u001b[38;5;28mself\u001b[39m\u001b[38;5;241m.\u001b[39m_reader\u001b[38;5;241m.\u001b[39munnamed_cols\n\u001b[0;32m     83\u001b[0m \u001b[38;5;66;03m# error: Cannot determine type of 'names'\u001b[39;00m\n",
      "File \u001b[1;32m~\\anaconda3\\envs\\scrnaseq\\lib\\site-packages\\pandas\\_libs\\parsers.pyx:547\u001b[0m, in \u001b[0;36mpandas._libs.parsers.TextReader.__cinit__\u001b[1;34m()\u001b[0m\n",
      "File \u001b[1;32m~\\anaconda3\\envs\\scrnaseq\\lib\\site-packages\\pandas\\_libs\\parsers.pyx:636\u001b[0m, in \u001b[0;36mpandas._libs.parsers.TextReader._get_header\u001b[1;34m()\u001b[0m\n",
      "File \u001b[1;32m~\\anaconda3\\envs\\scrnaseq\\lib\\site-packages\\pandas\\_libs\\parsers.pyx:852\u001b[0m, in \u001b[0;36mpandas._libs.parsers.TextReader._tokenize_rows\u001b[1;34m()\u001b[0m\n",
      "File \u001b[1;32m~\\anaconda3\\envs\\scrnaseq\\lib\\site-packages\\pandas\\_libs\\parsers.pyx:1965\u001b[0m, in \u001b[0;36mpandas._libs.parsers.raise_parser_error\u001b[1;34m()\u001b[0m\n",
      "\u001b[1;31mUnicodeDecodeError\u001b[0m: 'utf-8' codec can't decode byte 0x8b in position 1: invalid start byte"
     ]
    }
   ],
   "source": [
    "# index2 = pd.read_csv(\"../01-data/GSE120575_Sade_Feldman_melanoma_single_cells_TPM_GEO.txt\", delimiter=\"\\t\",skiprows=[0], nrows=0).T\n",
    "\n",
    "url = \"https://www.ncbi.nlm.nih.gov/geo/download/?acc=GSE120575&format=file&file=GSE120575%5FSade%5FFeldman%5Fmelanoma%5Fsingle%5Fcells%5FTPM%5FGEO%2Etxt%2Egz\"\n",
    "url2 = pd.read_csv(url, delimiter=\"\\t\",skiprows=[0], nrows=0).T\n",
    "import gzip\n",
    "with gzip.open(url2, 'rb') as f:\n",
    "    file_content = f.read()\n",
    "index2 = pd.read_csv(file_content, delimiter=\"\\t\",skiprows=[0], nrows=0).T\n",
    "\n",
    "\n",
    "print(index2.shape)\n",
    "index2 = index2.iloc[1:,:]\n",
    "print(index2.shape)\n",
    "index2 = index2.reset_index()\n",
    "index2.rename(columns = {'index':'index2'}, inplace = True)\n",
    "\n",
    "index2.head()\n",
    "# adata = adata.iloc[1:,:].copy()\n",
    "# adata.head()"
   ]
  },
  {
   "cell_type": "code",
   "execution_count": null,
   "id": "fab9af5c",
   "metadata": {},
   "outputs": [],
   "source": [
    "index3 = pd.read_csv(url, delimiter=\"\\t\",skiprows=[1], nrows=0).T\n",
    "\n",
    "print(index3.shape)\n",
    "index3 = index3.iloc[1:,:]\n",
    "print(index3.shape)\n",
    "index3 = index3.reset_index()\n",
    "index3.rename(columns = {'index':'index3'}, inplace = True)\n",
    "\n",
    "index3.head()\n",
    "# adata = adata.iloc[1:,:].copy()\n",
    "# adata.head()"
   ]
  },
  {
   "cell_type": "code",
   "execution_count": null,
   "id": "b7e455a1",
   "metadata": {},
   "outputs": [],
   "source": [
    "index3"
   ]
  },
  {
   "cell_type": "code",
   "execution_count": null,
   "id": "3cdc8dfe",
   "metadata": {},
   "outputs": [],
   "source": [
    "index3_list = index3.index3.to_list()\n",
    "len(index3_list)\n",
    "index3_list = index3_list[:-1]\n",
    "len(index3_list)"
   ]
  },
  {
   "cell_type": "code",
   "execution_count": null,
   "id": "e4906dfb",
   "metadata": {},
   "outputs": [],
   "source": [
    "combo_index = pd.concat([index2, index3], axis=\"columns\")\n",
    "combo_index = combo_index.iloc[:-1,:]"
   ]
  },
  {
   "cell_type": "code",
   "execution_count": null,
   "id": "6d71ac16",
   "metadata": {},
   "outputs": [],
   "source": [
    "combo_index['full_sample_name'] = combo_index['index3'] + \"-\" +combo_index['index2']\n",
    "combo_index = combo_index.drop('index2', axis = 1)\n",
    "combo_index = combo_index.drop('index3', axis = 1)\n",
    "combo_index = combo_index.set_index(\"full_sample_name\")\n",
    "combo_index.head()"
   ]
  },
  {
   "cell_type": "code",
   "execution_count": null,
   "id": "90d327a9",
   "metadata": {},
   "outputs": [],
   "source": []
  },
  {
   "cell_type": "code",
   "execution_count": null,
   "id": "03662b07",
   "metadata": {},
   "outputs": [],
   "source": [
    "cell_index = []\n",
    "for i in range(16290):\n",
    "    cell_index.append('Sample '+str(i+1))\n",
    "cell_index\n",
    "len(cell_index)\n",
    "\n",
    "combo_index2 = combo_index.reset_index()\n",
    "combo_index2['sample_name'] = cell_index\n",
    "combo_index2 = combo_index2.set_index('sample_name')\n",
    "combo_index2"
   ]
  },
  {
   "cell_type": "code",
   "execution_count": null,
   "id": "50fa44d6",
   "metadata": {},
   "outputs": [],
   "source": [
    "combo_index.shape"
   ]
  },
  {
   "cell_type": "code",
   "execution_count": null,
   "id": "2bf48309",
   "metadata": {
    "scrolled": true
   },
   "outputs": [],
   "source": [
    "cell_names_list = combo_index.index.to_list()\n",
    "print(len(cell_names_list))\n",
    "# cell_names_list = cell_names_list[:-1]\n",
    "print(len(cell_names_list))\n",
    "cell_names_list"
   ]
  },
  {
   "cell_type": "code",
   "execution_count": null,
   "id": "8b657ceb",
   "metadata": {
    "scrolled": true
   },
   "outputs": [],
   "source": [
    "gene_names = pd.read_csv(\"../01-data/GSE120575_Sade_Feldman_melanoma_single_cells_TPM_GEO.txt\", delimiter=\"\\t\", usecols=[0])\n",
    "\n",
    "gene_names.rename(columns = {'Unnamed: 0':'gene_symbols'}, inplace = True)\n",
    "gene_names = gene_names.iloc[1:,:]\n",
    "\n",
    "gene_names_list = gene_names.gene_symbols.to_list()\n",
    "print(gene_names_list[0])\n",
    "\n",
    "# gene_names_list = gene_names_list[1:]\n",
    "# gene_names_list\n",
    "\n",
    "print(gene_names.shape)"
   ]
  },
  {
   "cell_type": "code",
   "execution_count": null,
   "id": "fa0cc475",
   "metadata": {},
   "outputs": [],
   "source": [
    "print(len(gene_names_list))"
   ]
  },
  {
   "cell_type": "code",
   "execution_count": null,
   "id": "7d07b969",
   "metadata": {},
   "outputs": [],
   "source": [
    "# read data\n",
    "adata = pd.read_csv(\"../01-data/GSE120575_Sade_Feldman_melanoma_single_cells_TPM_GEO.txt\", delimiter=\"\\t\",skiprows=[1], usecols=index3_list, header=0).T\n",
    "\n",
    "print(adata.shape)"
   ]
  },
  {
   "cell_type": "code",
   "execution_count": null,
   "id": "f6468a04",
   "metadata": {},
   "outputs": [],
   "source": [
    "bdata = adata.to_numpy()\n",
    "print(bdata.shape)\n",
    "bdata"
   ]
  },
  {
   "cell_type": "code",
   "execution_count": null,
   "id": "294e2564",
   "metadata": {
    "scrolled": true
   },
   "outputs": [],
   "source": [
    "# create sparse matrix using csr_matrix()\n",
    "  \n",
    "# Import required package\n",
    "from scipy.sparse import csr_matrix\n",
    "from scipy import sparse\n",
    "  \n",
    "# creating sparse matrix\n",
    "sparseMatrix = sparse.csr_matrix(bdata)\n",
    "              \n",
    "# print the sparse matrix\n",
    "print(sparseMatrix)"
   ]
  },
  {
   "cell_type": "code",
   "execution_count": null,
   "id": "53d5a150",
   "metadata": {},
   "outputs": [],
   "source": [
    "type(sparseMatrix)\n",
    "sparse.isspmatrix(sparseMatrix)"
   ]
  },
  {
   "cell_type": "code",
   "execution_count": null,
   "id": "2500c6f1",
   "metadata": {},
   "outputs": [],
   "source": [
    "import scipy.io as sio\n",
    "sio.mmwrite(\"../01-data/matrix/matrix.mtx\",sparseMatrix)"
   ]
  },
  {
   "cell_type": "code",
   "execution_count": null,
   "id": "6f0d0fdc",
   "metadata": {
    "scrolled": true
   },
   "outputs": [],
   "source": [
    "gene_names"
   ]
  },
  {
   "cell_type": "code",
   "execution_count": null,
   "id": "1c7ceaf0",
   "metadata": {},
   "outputs": [],
   "source": [
    "gene_names.to_csv('../01-data/matrix/genes.tsv', index=False)"
   ]
  },
  {
   "cell_type": "code",
   "execution_count": null,
   "id": "00073427",
   "metadata": {},
   "outputs": [],
   "source": [
    "combo_index2.to_csv('../01-data/matrix/barcodes.tsv')"
   ]
  },
  {
   "cell_type": "code",
   "execution_count": null,
   "id": "471e0153",
   "metadata": {},
   "outputs": [],
   "source": []
  },
  {
   "cell_type": "code",
   "execution_count": null,
   "id": "0b61af6d",
   "metadata": {
    "scrolled": true
   },
   "outputs": [],
   "source": []
  },
  {
   "cell_type": "code",
   "execution_count": null,
   "id": "dd644f2d",
   "metadata": {},
   "outputs": [],
   "source": []
  },
  {
   "cell_type": "code",
   "execution_count": null,
   "id": "57f8e051",
   "metadata": {},
   "outputs": [],
   "source": [
    "\n",
    "\n",
    "# index2.rename(columns = {'index':'index2'}, inplace = True)\n"
   ]
  },
  {
   "cell_type": "code",
   "execution_count": null,
   "id": "9fe8a6c6",
   "metadata": {},
   "outputs": [],
   "source": []
  },
  {
   "cell_type": "code",
   "execution_count": null,
   "id": "2ab6bc74",
   "metadata": {},
   "outputs": [],
   "source": []
  },
  {
   "cell_type": "code",
   "execution_count": null,
   "id": "db1a00ce",
   "metadata": {},
   "outputs": [],
   "source": []
  },
  {
   "cell_type": "code",
   "execution_count": null,
   "id": "cc2c22b3",
   "metadata": {},
   "outputs": [],
   "source": []
  }
 ],
 "metadata": {
  "kernelspec": {
   "display_name": "Python 3 (ipykernel)",
   "language": "python",
   "name": "python3"
  },
  "language_info": {
   "codemirror_mode": {
    "name": "ipython",
    "version": 3
   },
   "file_extension": ".py",
   "mimetype": "text/x-python",
   "name": "python",
   "nbconvert_exporter": "python",
   "pygments_lexer": "ipython3",
   "version": "3.9.16"
  }
 },
 "nbformat": 4,
 "nbformat_minor": 5
}
