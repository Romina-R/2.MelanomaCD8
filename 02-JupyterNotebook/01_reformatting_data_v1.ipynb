{
 "cells": [
  {
   "cell_type": "code",
   "execution_count": 1,
   "id": "92c706d2",
   "metadata": {},
   "outputs": [
    {
     "name": "stderr",
     "output_type": "stream",
     "text": [
      "Global seed set to 0\n"
     ]
    }
   ],
   "source": [
    "import pandas as pd\n",
    "import numpy as np\n",
    "import scanpy as sc\n",
    "import os\n",
    "from matplotlib.pyplot import rc_context\n",
    "\n",
    "import sys\n",
    "import warnings\n",
    "\n",
    "import scvi\n",
    "import anndata\n",
    "import matplotlib.pyplot as plt"
   ]
  },
  {
   "cell_type": "code",
   "execution_count": null,
   "id": "84ee77a3",
   "metadata": {},
   "outputs": [],
   "source": [
    "#set up directory\n",
    "large_root = r\"../data\"\n",
    "results_file = large_root + \"/results_file.h5ad\""
   ]
  },
  {
   "cell_type": "code",
   "execution_count": null,
   "id": "d775449e",
   "metadata": {},
   "outputs": [],
   "source": [
    "sc.set_figure_params(dpi=100, color_map = 'viridis_r')\n",
    "sc.settings.verbosity = 1\n",
    "sc.logging.print_header()"
   ]
  },
  {
   "cell_type": "code",
   "execution_count": null,
   "id": "7bcd1296",
   "metadata": {},
   "outputs": [],
   "source": [
    "index2 = pd.read_csv(\"../01-data/GSE120575_Sade_Feldman_melanoma_single_cells_TPM_GEO.txt\", delimiter=\"\\t\",skiprows=[0], nrows=0).T\n",
    "\n",
    "print(index2.shape)\n",
    "index2 = index2.iloc[1:,:]\n",
    "print(index2.shape)\n",
    "index2 = index2.reset_index()\n",
    "index2.rename(columns = {'index':'index2'}, inplace = True)\n",
    "\n",
    "index2.head()\n",
    "# adata = adata.iloc[1:,:].copy()\n",
    "# adata.head()"
   ]
  },
  {
   "cell_type": "code",
   "execution_count": null,
   "id": "fab9af5c",
   "metadata": {},
   "outputs": [],
   "source": [
    "index3 = pd.read_csv(\"../01-data/GSE120575_Sade_Feldman_melanoma_single_cells_TPM_GEO.txt\", delimiter=\"\\t\",skiprows=[1], nrows=0).T\n",
    "\n",
    "print(index3.shape)\n",
    "index3 = index3.iloc[1:,:]\n",
    "print(index3.shape)\n",
    "index3 = index3.reset_index()\n",
    "index3.rename(columns = {'index':'index3'}, inplace = True)\n",
    "\n",
    "index3.head()\n",
    "# adata = adata.iloc[1:,:].copy()\n",
    "# adata.head()"
   ]
  },
  {
   "cell_type": "code",
   "execution_count": null,
   "id": "b7e455a1",
   "metadata": {},
   "outputs": [],
   "source": [
    "index3"
   ]
  },
  {
   "cell_type": "code",
   "execution_count": null,
   "id": "3cdc8dfe",
   "metadata": {},
   "outputs": [],
   "source": [
    "index3_list = index3.index3.to_list()\n",
    "len(index3_list)\n",
    "index3_list = index3_list[:-1]\n",
    "len(index3_list)"
   ]
  },
  {
   "cell_type": "code",
   "execution_count": null,
   "id": "e4906dfb",
   "metadata": {},
   "outputs": [],
   "source": [
    "combo_index = pd.concat([index2, index3], axis=\"columns\")\n",
    "combo_index = combo_index.iloc[:-1,:]"
   ]
  },
  {
   "cell_type": "code",
   "execution_count": null,
   "id": "6d71ac16",
   "metadata": {},
   "outputs": [],
   "source": [
    "combo_index['full_sample_name'] = combo_index['index3'] + \"-\" +combo_index['index2']\n",
    "combo_index = combo_index.drop('index2', axis = 1)\n",
    "combo_index = combo_index.drop('index3', axis = 1)\n",
    "combo_index = combo_index.set_index(\"full_sample_name\")\n",
    "combo_index.head()"
   ]
  },
  {
   "cell_type": "code",
   "execution_count": null,
   "id": "90d327a9",
   "metadata": {},
   "outputs": [],
   "source": []
  },
  {
   "cell_type": "code",
   "execution_count": null,
   "id": "03662b07",
   "metadata": {},
   "outputs": [],
   "source": [
    "cell_index = []\n",
    "for i in range(16290):\n",
    "    cell_index.append('Sample '+str(i+1))\n",
    "cell_index\n",
    "len(cell_index)\n",
    "\n",
    "combo_index2 = combo_index.reset_index()\n",
    "combo_index2['sample_name'] = cell_index\n",
    "combo_index2 = combo_index2.set_index('sample_name')\n",
    "combo_index2"
   ]
  },
  {
   "cell_type": "code",
   "execution_count": null,
   "id": "50fa44d6",
   "metadata": {},
   "outputs": [],
   "source": [
    "combo_index.shape"
   ]
  },
  {
   "cell_type": "code",
   "execution_count": null,
   "id": "2bf48309",
   "metadata": {
    "scrolled": true
   },
   "outputs": [],
   "source": [
    "cell_names_list = combo_index.index.to_list()\n",
    "print(len(cell_names_list))\n",
    "# cell_names_list = cell_names_list[:-1]\n",
    "print(len(cell_names_list))\n",
    "cell_names_list"
   ]
  },
  {
   "cell_type": "code",
   "execution_count": null,
   "id": "8b657ceb",
   "metadata": {
    "scrolled": true
   },
   "outputs": [],
   "source": [
    "gene_names = pd.read_csv(\"../01-data/GSE120575_Sade_Feldman_melanoma_single_cells_TPM_GEO.txt\", delimiter=\"\\t\", usecols=[0])\n",
    "\n",
    "gene_names.rename(columns = {'Unnamed: 0':'gene_symbols'}, inplace = True)\n",
    "gene_names = gene_names.iloc[1:,:]\n",
    "\n",
    "gene_names_list = gene_names.gene_symbols.to_list()\n",
    "print(gene_names_list[0])\n",
    "\n",
    "# gene_names_list = gene_names_list[1:]\n",
    "# gene_names_list\n",
    "\n",
    "print(gene_names.shape)"
   ]
  },
  {
   "cell_type": "code",
   "execution_count": null,
   "id": "fa0cc475",
   "metadata": {},
   "outputs": [],
   "source": [
    "print(len(gene_names_list))"
   ]
  },
  {
   "cell_type": "code",
   "execution_count": null,
   "id": "7d07b969",
   "metadata": {},
   "outputs": [],
   "source": [
    "# read data\n",
    "adata = pd.read_csv(\"../01-data/GSE120575_Sade_Feldman_melanoma_single_cells_TPM_GEO.txt\", delimiter=\"\\t\",skiprows=[1], usecols=index3_list, header=0).T\n",
    "\n",
    "print(adata.shape)"
   ]
  },
  {
   "cell_type": "code",
   "execution_count": null,
   "id": "f6468a04",
   "metadata": {},
   "outputs": [],
   "source": [
    "bdata = adata.to_numpy()\n",
    "print(bdata.shape)\n",
    "bdata"
   ]
  },
  {
   "cell_type": "code",
   "execution_count": null,
   "id": "294e2564",
   "metadata": {
    "scrolled": true
   },
   "outputs": [],
   "source": [
    "# create sparse matrix using csr_matrix()\n",
    "  \n",
    "# Import required package\n",
    "from scipy.sparse import csr_matrix\n",
    "from scipy import sparse\n",
    "  \n",
    "# creating sparse matrix\n",
    "sparseMatrix = sparse.csr_matrix(bdata)\n",
    "              \n",
    "# print the sparse matrix\n",
    "print(sparseMatrix)"
   ]
  },
  {
   "cell_type": "code",
   "execution_count": null,
   "id": "53d5a150",
   "metadata": {},
   "outputs": [],
   "source": [
    "type(sparseMatrix)\n",
    "sparse.isspmatrix(sparseMatrix)"
   ]
  },
  {
   "cell_type": "code",
   "execution_count": null,
   "id": "2500c6f1",
   "metadata": {},
   "outputs": [],
   "source": [
    "import scipy.io as sio\n",
    "sio.mmwrite(\"../01-data/matrix/matrix.mtx\",sparseMatrix)"
   ]
  },
  {
   "cell_type": "code",
   "execution_count": null,
   "id": "6f0d0fdc",
   "metadata": {
    "scrolled": true
   },
   "outputs": [],
   "source": [
    "gene_names"
   ]
  },
  {
   "cell_type": "code",
   "execution_count": null,
   "id": "1c7ceaf0",
   "metadata": {},
   "outputs": [],
   "source": [
    "gene_names.to_csv('../01-data/matrix/genes.tsv', index=False)"
   ]
  },
  {
   "cell_type": "code",
   "execution_count": null,
   "id": "00073427",
   "metadata": {},
   "outputs": [],
   "source": [
    "combo_index2.to_csv('../01-data/matrix/barcodes.tsv')"
   ]
  },
  {
   "cell_type": "code",
   "execution_count": null,
   "id": "471e0153",
   "metadata": {},
   "outputs": [],
   "source": []
  },
  {
   "cell_type": "code",
   "execution_count": null,
   "id": "0b61af6d",
   "metadata": {
    "scrolled": true
   },
   "outputs": [],
   "source": []
  },
  {
   "cell_type": "code",
   "execution_count": null,
   "id": "dd644f2d",
   "metadata": {},
   "outputs": [],
   "source": []
  },
  {
   "cell_type": "code",
   "execution_count": null,
   "id": "57f8e051",
   "metadata": {},
   "outputs": [],
   "source": [
    "\n",
    "\n",
    "# index2.rename(columns = {'index':'index2'}, inplace = True)\n"
   ]
  },
  {
   "cell_type": "code",
   "execution_count": null,
   "id": "9fe8a6c6",
   "metadata": {},
   "outputs": [],
   "source": []
  },
  {
   "cell_type": "code",
   "execution_count": null,
   "id": "2ab6bc74",
   "metadata": {},
   "outputs": [],
   "source": []
  },
  {
   "cell_type": "code",
   "execution_count": null,
   "id": "db1a00ce",
   "metadata": {},
   "outputs": [],
   "source": []
  },
  {
   "cell_type": "code",
   "execution_count": null,
   "id": "cc2c22b3",
   "metadata": {},
   "outputs": [],
   "source": []
  }
 ],
 "metadata": {
  "kernelspec": {
   "display_name": "Python 3 (ipykernel)",
   "language": "python",
   "name": "python3"
  },
  "language_info": {
   "codemirror_mode": {
    "name": "ipython",
    "version": 3
   },
   "file_extension": ".py",
   "mimetype": "text/x-python",
   "name": "python",
   "nbconvert_exporter": "python",
   "pygments_lexer": "ipython3",
   "version": "3.9.16"
  }
 },
 "nbformat": 4,
 "nbformat_minor": 5
}
