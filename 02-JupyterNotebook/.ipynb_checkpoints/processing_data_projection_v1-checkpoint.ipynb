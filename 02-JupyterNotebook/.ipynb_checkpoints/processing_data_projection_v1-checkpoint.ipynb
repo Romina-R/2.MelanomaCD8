{
 "cells": [
  {
   "cell_type": "code",
   "execution_count": 1,
   "id": "92c706d2",
   "metadata": {},
   "outputs": [
    {
     "name": "stderr",
     "output_type": "stream",
     "text": [
      "Global seed set to 0\n"
     ]
    }
   ],
   "source": [
    "import pandas as pd\n",
    "import numpy as np\n",
    "import scanpy as sc\n",
    "import os\n",
    "from matplotlib.pyplot import rc_context\n",
    "\n",
    "import sys\n",
    "import warnings\n",
    "\n",
    "import scvi\n",
    "import anndata\n",
    "import matplotlib.pyplot as plt\n",
    "# import scrublet as scr\n"
   ]
  },
  {
   "cell_type": "code",
   "execution_count": null,
   "id": "1f53de54",
   "metadata": {},
   "outputs": [],
   "source": [
    "# import scrublet as scr"
   ]
  },
  {
   "cell_type": "code",
   "execution_count": 2,
   "id": "84ee77a3",
   "metadata": {},
   "outputs": [],
   "source": [
    "#set up directory\n",
    "large_root = r\"../data\"\n",
    "results_file = large_root + \"/results_file.h5ad\""
   ]
  },
  {
   "cell_type": "code",
   "execution_count": 3,
   "id": "d775449e",
   "metadata": {},
   "outputs": [
    {
     "name": "stdout",
     "output_type": "stream",
     "text": [
      "scanpy==1.9.2 anndata==0.8.0 umap==0.5.3 numpy==1.23.5 scipy==1.10.0 pandas==1.5.3 scikit-learn==1.2.1 statsmodels==0.13.5 python-igraph==0.10.4 pynndescent==0.5.4\n"
     ]
    }
   ],
   "source": [
    "sc.set_figure_params(dpi=100, color_map = 'viridis_r')\n",
    "sc.settings.verbosity = 1\n",
    "sc.logging.print_header()"
   ]
  },
  {
   "cell_type": "code",
   "execution_count": 4,
   "id": "5ab37e1b",
   "metadata": {},
   "outputs": [],
   "source": [
    "adata = sc.read_h5ad(\"../01-data/TICAtlas_downsampled_1000.h5ad\")\n",
    "# adata = sc.read_h5ad(\"../01-data/TICAtlas.h5ad\")"
   ]
  },
  {
   "cell_type": "code",
   "execution_count": 5,
   "id": "d87b1cb7",
   "metadata": {},
   "outputs": [
    {
     "data": {
      "text/plain": [
       "AnnData object with n_obs × n_vars = 24834 × 87659\n",
       "    obs: 'nCount_RNA', 'nFeature_RNA', 'patient', 'percent.mt', 'gender', 'source', 'subtype', 'cluster_kmeans_k6', 'cell_type'\n",
       "    var: '_index', 'features'\n",
       "    obsm: 'X_umap'"
      ]
     },
     "execution_count": 5,
     "metadata": {},
     "output_type": "execute_result"
    }
   ],
   "source": [
    "adata"
   ]
  },
  {
   "cell_type": "code",
   "execution_count": 6,
   "id": "2113a443",
   "metadata": {},
   "outputs": [
    {
     "data": {
      "text/plain": [
       "AnnData object with n_obs × n_vars = 24834 × 87659\n",
       "    obs: 'nCount_RNA', 'nFeature_RNA', 'patient', 'percent.mt', 'gender', 'source', 'subtype', 'cluster_kmeans_k6', 'cell_type'\n",
       "    var: '_index', 'features'\n",
       "    obsm: 'X_umap'"
      ]
     },
     "execution_count": 6,
     "metadata": {},
     "output_type": "execute_result"
    }
   ],
   "source": [
    "bdata = adata.copy()\n",
    "bdata"
   ]
  },
  {
   "cell_type": "code",
   "execution_count": 13,
   "id": "74169f19",
   "metadata": {},
   "outputs": [],
   "source": [
    "bdata.layers['test'] = bdata.X"
   ]
  },
  {
   "cell_type": "code",
   "execution_count": 14,
   "id": "c68aaaf0",
   "metadata": {},
   "outputs": [
    {
     "data": {
      "text/plain": [
       "AnnData object with n_obs × n_vars = 24834 × 87659\n",
       "    obs: 'nCount_RNA', 'nFeature_RNA', 'patient', 'percent.mt', 'gender', 'source', 'subtype', 'cluster_kmeans_k6', 'cell_type'\n",
       "    var: '_index', 'features'\n",
       "    obsm: 'X_umap'\n",
       "    layers: 'raw', 'test'"
      ]
     },
     "execution_count": 14,
     "metadata": {},
     "output_type": "execute_result"
    }
   ],
   "source": [
    "bdata"
   ]
  },
  {
   "cell_type": "code",
   "execution_count": null,
   "id": "55d7e9b0",
   "metadata": {},
   "outputs": [],
   "source": [
    "adata.X"
   ]
  },
  {
   "cell_type": "code",
   "execution_count": null,
   "id": "32f471a9",
   "metadata": {},
   "outputs": [],
   "source": [
    "adata.var['mt'] = adata.var.index.str.startswith('MT-')\n",
    "adata"
   ]
  },
  {
   "cell_type": "code",
   "execution_count": null,
   "id": "fb1a3cda",
   "metadata": {},
   "outputs": [],
   "source": [
    "adata.raw.var.rename(columns = {'_index':'index'}, inplace = True)\n",
    "# adata.raw.var = adata.raw.var.set_index(\"index\", inplace= True)\n",
    "adata.raw.var.set_index(\"index\", inplace= True)\n",
    "adata.raw.var.head(2)"
   ]
  },
  {
   "cell_type": "code",
   "execution_count": null,
   "id": "6d810224",
   "metadata": {},
   "outputs": [],
   "source": [
    "# adata.raw.var_names = \n",
    "gene_list = adata.raw.var_names.tolist()"
   ]
  },
  {
   "cell_type": "code",
   "execution_count": null,
   "id": "2e8604f8",
   "metadata": {},
   "outputs": [],
   "source": [
    "adata.var.rename(columns = {'_index':'index','features':'gene_symbols'}, inplace = True)\n",
    "adata.var = adata.var.set_index(\"index\")\n",
    "adata.var.head(2)"
   ]
  },
  {
   "cell_type": "code",
   "execution_count": null,
   "id": "fec3b9d5",
   "metadata": {
    "scrolled": false
   },
   "outputs": [],
   "source": [
    "sc.pp.highly_variable_genes(adata, n_top_genes = 3000)"
   ]
  },
  {
   "cell_type": "code",
   "execution_count": null,
   "id": "4e0793bd",
   "metadata": {},
   "outputs": [],
   "source": [
    "adata.X"
   ]
  },
  {
   "cell_type": "code",
   "execution_count": null,
   "id": "0c5bba30",
   "metadata": {},
   "outputs": [],
   "source": [
    "sc.pl.highly_variable_genes(adata)"
   ]
  },
  {
   "cell_type": "code",
   "execution_count": null,
   "id": "9ba0b28f",
   "metadata": {},
   "outputs": [],
   "source": [
    "pbmc = sc.datasets.pbmc68k_reduced()"
   ]
  },
  {
   "cell_type": "code",
   "execution_count": null,
   "id": "2e76c767",
   "metadata": {},
   "outputs": [],
   "source": [
    "pbmc"
   ]
  },
  {
   "cell_type": "code",
   "execution_count": null,
   "id": "7dd58b38",
   "metadata": {},
   "outputs": [],
   "source": [
    "adata_ref = adata.copy()\n",
    "pbmc_query = pbmc.copy()"
   ]
  },
  {
   "cell_type": "code",
   "execution_count": null,
   "id": "33de73a5",
   "metadata": {},
   "outputs": [],
   "source": []
  },
  {
   "cell_type": "code",
   "execution_count": null,
   "id": "098f1699",
   "metadata": {},
   "outputs": [],
   "source": []
  },
  {
   "cell_type": "code",
   "execution_count": null,
   "id": "6d97c945",
   "metadata": {},
   "outputs": [],
   "source": []
  },
  {
   "cell_type": "code",
   "execution_count": null,
   "id": "5372bfcd",
   "metadata": {},
   "outputs": [],
   "source": [
    "print(len(pbmc.obs.bulk_labels.unique()))\n",
    "pbmc.obs.bulk_labels.unique()"
   ]
  },
  {
   "cell_type": "code",
   "execution_count": null,
   "id": "e7d02589",
   "metadata": {},
   "outputs": [],
   "source": [
    "sc.pl.umap(pbmc, color=\"louvain\")"
   ]
  },
  {
   "cell_type": "code",
   "execution_count": null,
   "id": "45c5dbca",
   "metadata": {},
   "outputs": [],
   "source": [
    "sc.external.pl.sam(adata, projection='X_umap', c=None, cmap='Spectral_r', linewidth=0.0, edgecolor='k', axes=None, colorbar=True, s=10.0)"
   ]
  },
  {
   "cell_type": "code",
   "execution_count": null,
   "id": "f776fa67",
   "metadata": {},
   "outputs": [],
   "source": [
    "sc.external.pl.sam(pbmc, projection='X_umap', c=None, cmap='Spectral_r', linewidth=0.0, edgecolor='k', axes=None, colorbar=True, s=10.0)"
   ]
  },
  {
   "cell_type": "code",
   "execution_count": null,
   "id": "3d5c9202",
   "metadata": {},
   "outputs": [],
   "source": [
    "sc.pl.umap(adata, color=['CD8A','IL2RA','IL2RB','IL2RG'],vmax=20)"
   ]
  },
  {
   "cell_type": "code",
   "execution_count": null,
   "id": "cf7ec1b5",
   "metadata": {},
   "outputs": [],
   "source": [
    "#filter to only include HVGs\n",
    "adata_HVG = adata[:, adata.var.highly_variable]\n",
    "adata_HVG"
   ]
  },
  {
   "cell_type": "code",
   "execution_count": null,
   "id": "85502140",
   "metadata": {},
   "outputs": [],
   "source": [
    "adata_HVG.obsm"
   ]
  },
  {
   "cell_type": "code",
   "execution_count": null,
   "id": "cad68f9d",
   "metadata": {},
   "outputs": [],
   "source": [
    "cell_types = adata.obs.cell_type.unique()\n",
    "cell_types = cell_types.tolist()"
   ]
  },
  {
   "cell_type": "code",
   "execution_count": null,
   "id": "090f4e16",
   "metadata": {},
   "outputs": [],
   "source": [
    "cell_category_dict = {\n",
    "    'Mast cells': 'B cells',\n",
    "    'Plasma B cells': 'B cells',\n",
    "    'B cells': 'B cells',\n",
    "    'Proliferative B cells': 'B cells',\n",
    "    'Recently activated CD4 T cells': 'T cells',    \n",
    "    'Naive-memory CD4 T cells': 'T cells',\n",
    "    'Effector memory CD8 T cells': 'T cells',\n",
    "    'Terminally exhausted CD8 T cells': 'T cells',\n",
    "    'Transitional memory CD4 T cells': 'T cells',\n",
    "    'T helper cells': 'T cells',\n",
    "    'Pre-exhausted CD8 T cells': 'T cells',\n",
    "    'Proliferative T cells': 'T cells',  \n",
    "    'Cytotoxic CD8 T cells': 'T cells',\n",
    "    'Naive T cells': 'T cells',\n",
    "    'Regulatory T cells': 'T cells',\n",
    "    'Th17 cells': 'T cells',\n",
    "    'Proliferative monocytes and macrophages':'Monocytes & Macrophages',\n",
    "    'M2 TAMs': 'TAMs',   \n",
    "    'SPP1 TAMs': 'TAMs',\n",
    "    'Proinflamatory TAMs': 'TAMs',\n",
    "    'NK': 'NK cells',\n",
    "    'pDC': 'DCs',\n",
    "    'cDC': 'DCs',\n",
    "    'mDC': 'DCs',\n",
    "    'Monocytes': 'Monocytes & Macrophages',      \n",
    "}\n",
    "adata.obs['cell_category'] = adata.obs['cell_type'].map(cell_category_dict).astype('category')"
   ]
  },
  {
   "cell_type": "code",
   "execution_count": null,
   "id": "36d5af26",
   "metadata": {},
   "outputs": [],
   "source": [
    "cytokine_genes_dict = {\n",
    "    'IL2R': ['IL2RA', 'IL2RB', 'IL2RG'],\n",
    "    'IL10': ['IL10RA', 'IL10RB'],\n",
    "    'IL12': ['IL12RB2']\n",
    "}"
   ]
  },
  {
   "cell_type": "code",
   "execution_count": null,
   "id": "bff19313",
   "metadata": {},
   "outputs": [],
   "source": [
    "tis_genes_dict = {\n",
    "    'Antigen Presenting': ['PSMB10','CMKLR1'],\n",
    "    'T cell/ NK cell': ['NKG7', 'CD8A'],\n",
    "    'IFN Activity': ['CCL5', 'CXCL9', 'CD27', 'CXCR6','IDO1','STAT1'],\n",
    "    'T Cell Exhaustion': ['TIGIT', 'LAG3', 'CD274','PDCD1LG2','CD276']\n",
    "}\n",
    "# excluding '['HLA-DQA1', 'HLA-DRB1', 'HLA-E']'"
   ]
  },
  {
   "cell_type": "code",
   "execution_count": null,
   "id": "a7798792",
   "metadata": {},
   "outputs": [],
   "source": [
    "gene1 = 'IL2RA'\n",
    "gene2 = 'CD3E'\n",
    "gene3 = 'CD8A'\n",
    "\n",
    "coex = ((adata.raw[:,'{}'.format(gene1)].X.todense() > 2) & (adata.raw[:,'{}'.format(gene2)].X.todense() > 2)) & (adata.raw[:,'{}'.format(gene3)].X.todense() > 2)\n",
    "\n",
    "coex_list = [item for sublist in coex.tolist() for item in sublist]\n",
    "adata.obs['CoEx'] = pd.Categorical(coex_list, categories=[True, False])\n",
    "\n",
    "# adata.obs['CoEx'] = (adata.raw[:,'{}'.format(gene1)].X.todense() > 0) & (adata.raw[:,'{}'.format(gene2)].X.todense() > 0) \n",
    "#                     (adata.raw[:,'{}'.format(gene3)].X.todense() > 0)\n",
    "adata.obs"
   ]
  },
  {
   "cell_type": "code",
   "execution_count": null,
   "id": "5260f7bb",
   "metadata": {},
   "outputs": [],
   "source": [
    "# # filter rows for year does not equal to 2002\n",
    "# >gapminder_not_2002 = gapminder[gapminder['year']!=2002]\n",
    "# >gapminder_not_2002.shape\n",
    "# (1562, 6)\n",
    "\n",
    "\n",
    "coexdata = adata.obs[adata.obs['CoEx']==True]\n",
    "coexdata\n",
    "coexdata.groupby(\"cell_type\").count()"
   ]
  },
  {
   "cell_type": "code",
   "execution_count": null,
   "id": "14273ba7",
   "metadata": {},
   "outputs": [],
   "source": [
    "sc.pl.umap(adata, color='CoEx', groups=[True])"
   ]
  },
  {
   "cell_type": "code",
   "execution_count": null,
   "id": "05c1a2e2",
   "metadata": {},
   "outputs": [],
   "source": [
    "# with rc_context({'figure.figsize': (4.5, 3)}):\n",
    "#     sc.pl.violin(adata, ['TIGIT', 'LAG3', 'CD274','PDCD1LG2','CD276'])"
   ]
  },
  {
   "cell_type": "code",
   "execution_count": null,
   "id": "9032b435",
   "metadata": {},
   "outputs": [],
   "source": [
    "sc.pl.matrixplot(adata, tis_genes_dict, 'cell_type', dendrogram=False, cmap='Blues', standard_scale='var', colorbar_title='column scaled\\nexpression')\n"
   ]
  },
  {
   "cell_type": "code",
   "execution_count": null,
   "id": "020f645e",
   "metadata": {
    "scrolled": false
   },
   "outputs": [],
   "source": [
    "sc.pl.matrixplot(adata, cytokine_genes_dict, 'cell_type', dendrogram=True, cmap='Blues', standard_scale='var', colorbar_title='column scaled\\nexpression')\n"
   ]
  },
  {
   "cell_type": "code",
   "execution_count": null,
   "id": "fd7b33e9",
   "metadata": {
    "scrolled": true
   },
   "outputs": [],
   "source": [
    "# with rc_context({'figure.figsize': (4.5, 3)}):\n",
    "# ax = sc.pl.stacked_violin(pbmc, marker_genes_dict, groupby = 'clusters')\n",
    "ax = sc.pl.stacked_violin(adata, marker_genes_dict, groupby='cell_type', swap_axes=False, dendrogram=True)\n"
   ]
  },
  {
   "cell_type": "code",
   "execution_count": null,
   "id": "bf817c21",
   "metadata": {},
   "outputs": [],
   "source": [
    "sc.pl.highly_variable_genes(adata)"
   ]
  },
  {
   "cell_type": "code",
   "execution_count": null,
   "id": "7b2db0fd",
   "metadata": {
    "scrolled": true
   },
   "outputs": [],
   "source": [
    "adata.obs.groupby(\"patient\").count()"
   ]
  },
  {
   "cell_type": "code",
   "execution_count": null,
   "id": "6a238207",
   "metadata": {},
   "outputs": [],
   "source": []
  },
  {
   "cell_type": "code",
   "execution_count": null,
   "id": "c1603732",
   "metadata": {},
   "outputs": [],
   "source": [
    "adata"
   ]
  },
  {
   "cell_type": "code",
   "execution_count": null,
   "id": "d1b8bc92",
   "metadata": {},
   "outputs": [],
   "source": [
    "sc.pl.umap(adata, color = ['cell_type'], frameon = False)"
   ]
  },
  {
   "cell_type": "code",
   "execution_count": null,
   "id": "2ab6bc74",
   "metadata": {},
   "outputs": [],
   "source": [
    "with rc_context({'figure.figsize': (5, 5)}):\n",
    "    sc.pl.umap(adata, color='cell_type', legend_loc='right margin',\n",
    "               legend_fontsize=12, legend_fontoutline=2,frameon=False,\n",
    "               title='clustering of cells', palette='Set1')"
   ]
  },
  {
   "cell_type": "code",
   "execution_count": null,
   "id": "db1a00ce",
   "metadata": {},
   "outputs": [],
   "source": []
  },
  {
   "cell_type": "code",
   "execution_count": null,
   "id": "cc2c22b3",
   "metadata": {},
   "outputs": [],
   "source": []
  }
 ],
 "metadata": {
  "kernelspec": {
   "display_name": "Python 3 (ipykernel)",
   "language": "python",
   "name": "python3"
  },
  "language_info": {
   "codemirror_mode": {
    "name": "ipython",
    "version": 3
   },
   "file_extension": ".py",
   "mimetype": "text/x-python",
   "name": "python",
   "nbconvert_exporter": "python",
   "pygments_lexer": "ipython3",
   "version": "3.9.16"
  }
 },
 "nbformat": 4,
 "nbformat_minor": 5
}
