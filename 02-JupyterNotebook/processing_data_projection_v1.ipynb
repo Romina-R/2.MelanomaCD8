{
 "cells": [
  {
   "cell_type": "code",
   "execution_count": 1,
   "id": "92c706d2",
   "metadata": {},
   "outputs": [
    {
     "name": "stderr",
     "output_type": "stream",
     "text": [
      "Global seed set to 0\n"
     ]
    }
   ],
   "source": [
    "import pandas as pd\n",
    "import numpy as np\n",
    "import scanpy as sc\n",
    "import os\n",
    "from matplotlib.pyplot import rc_context\n",
    "\n",
    "import sys\n",
    "import warnings\n",
    "\n",
    "import scvi\n",
    "import anndata\n",
    "import matplotlib.pyplot as plt\n",
    "# import scrublet as scr"
   ]
  },
  {
   "cell_type": "code",
   "execution_count": 2,
   "id": "84ee77a3",
   "metadata": {},
   "outputs": [],
   "source": [
    "#set up directory\n",
    "large_root = r\"../data\"\n",
    "results_file = large_root + \"/results_file.h5ad\""
   ]
  },
  {
   "cell_type": "code",
   "execution_count": 3,
   "id": "d775449e",
   "metadata": {},
   "outputs": [
    {
     "name": "stdout",
     "output_type": "stream",
     "text": [
      "scanpy==1.9.2 anndata==0.8.0 umap==0.5.3 numpy==1.23.5 scipy==1.10.0 pandas==1.5.3 scikit-learn==1.2.1 statsmodels==0.13.5 python-igraph==0.10.4 pynndescent==0.5.4\n"
     ]
    }
   ],
   "source": [
    "sc.set_figure_params(dpi=100, color_map = 'viridis_r')\n",
    "sc.settings.verbosity = 1\n",
    "sc.logging.print_header()"
   ]
  },
  {
   "cell_type": "code",
   "execution_count": 4,
   "id": "c1be1cb8",
   "metadata": {},
   "outputs": [
    {
     "name": "stdout",
     "output_type": "stream",
     "text": [
      "(16292, 0)\n",
      "(16291, 0)\n"
     ]
    },
    {
     "data": {
      "text/html": [
       "<div>\n",
       "<style scoped>\n",
       "    .dataframe tbody tr th:only-of-type {\n",
       "        vertical-align: middle;\n",
       "    }\n",
       "\n",
       "    .dataframe tbody tr th {\n",
       "        vertical-align: top;\n",
       "    }\n",
       "\n",
       "    .dataframe thead th {\n",
       "        text-align: right;\n",
       "    }\n",
       "</style>\n",
       "<table border=\"1\" class=\"dataframe\">\n",
       "  <thead>\n",
       "    <tr style=\"text-align: right;\">\n",
       "      <th></th>\n",
       "      <th>index2</th>\n",
       "    </tr>\n",
       "  </thead>\n",
       "  <tbody>\n",
       "    <tr>\n",
       "      <th>0</th>\n",
       "      <td>Pre_P1</td>\n",
       "    </tr>\n",
       "    <tr>\n",
       "      <th>1</th>\n",
       "      <td>Pre_P1.1</td>\n",
       "    </tr>\n",
       "    <tr>\n",
       "      <th>2</th>\n",
       "      <td>Pre_P1.2</td>\n",
       "    </tr>\n",
       "    <tr>\n",
       "      <th>3</th>\n",
       "      <td>Pre_P1.3</td>\n",
       "    </tr>\n",
       "    <tr>\n",
       "      <th>4</th>\n",
       "      <td>Pre_P1.4</td>\n",
       "    </tr>\n",
       "  </tbody>\n",
       "</table>\n",
       "</div>"
      ],
      "text/plain": [
       "     index2\n",
       "0    Pre_P1\n",
       "1  Pre_P1.1\n",
       "2  Pre_P1.2\n",
       "3  Pre_P1.3\n",
       "4  Pre_P1.4"
      ]
     },
     "execution_count": 4,
     "metadata": {},
     "output_type": "execute_result"
    }
   ],
   "source": [
    "index2 = pd.read_csv(\"../01-data/GSE120575_Sade_Feldman_melanoma_single_cells_TPM_GEO.txt\", delimiter=\"\\t\",skiprows=[0], nrows=0).T\n",
    "\n",
    "print(index2.shape)\n",
    "index2 = index2.iloc[1:,:]\n",
    "print(index2.shape)\n",
    "index2 = index2.reset_index()\n",
    "index2.rename(columns = {'index':'index2'}, inplace = True)\n",
    "\n",
    "index2.head()\n",
    "# adata = adata.iloc[1:,:].copy()\n",
    "# adata.head()"
   ]
  },
  {
   "cell_type": "code",
   "execution_count": 5,
   "id": "1c7ceaf0",
   "metadata": {},
   "outputs": [
    {
     "name": "stdout",
     "output_type": "stream",
     "text": [
      "(16292, 55737)\n"
     ]
    },
    {
     "data": {
      "text/html": [
       "<div>\n",
       "<style scoped>\n",
       "    .dataframe tbody tr th:only-of-type {\n",
       "        vertical-align: middle;\n",
       "    }\n",
       "\n",
       "    .dataframe tbody tr th {\n",
       "        vertical-align: top;\n",
       "    }\n",
       "\n",
       "    .dataframe thead th {\n",
       "        text-align: right;\n",
       "    }\n",
       "</style>\n",
       "<table border=\"1\" class=\"dataframe\">\n",
       "  <thead>\n",
       "    <tr style=\"text-align: right;\">\n",
       "      <th></th>\n",
       "      <th>index</th>\n",
       "      <th>TSPAN6</th>\n",
       "      <th>TNMD</th>\n",
       "      <th>DPM1</th>\n",
       "      <th>SCYL3</th>\n",
       "      <th>C1orf112</th>\n",
       "      <th>FGR</th>\n",
       "      <th>CFH</th>\n",
       "      <th>FUCA2</th>\n",
       "      <th>GCLC</th>\n",
       "      <th>...</th>\n",
       "      <th>RP11-126K1.9</th>\n",
       "      <th>RP4-671G15.2</th>\n",
       "      <th>OR6R2P</th>\n",
       "      <th>RP11-225H22.7</th>\n",
       "      <th>RP11-731C17.2</th>\n",
       "      <th>RP4-621B10.8</th>\n",
       "      <th>RP11-114I8.4</th>\n",
       "      <th>RP11-180C16.1</th>\n",
       "      <th>AP000230.1</th>\n",
       "      <th>RP11-80H18.4</th>\n",
       "    </tr>\n",
       "  </thead>\n",
       "  <tbody>\n",
       "    <tr>\n",
       "      <th>0</th>\n",
       "      <td>A10_P3_M11</td>\n",
       "      <td>0.0</td>\n",
       "      <td>0.0</td>\n",
       "      <td>9.24</td>\n",
       "      <td>0.0</td>\n",
       "      <td>0.0</td>\n",
       "      <td>0.0</td>\n",
       "      <td>0.0</td>\n",
       "      <td>0.0</td>\n",
       "      <td>1.01</td>\n",
       "      <td>...</td>\n",
       "      <td>0.0</td>\n",
       "      <td>0.0</td>\n",
       "      <td>0.0</td>\n",
       "      <td>0.0</td>\n",
       "      <td>0.0</td>\n",
       "      <td>0.0</td>\n",
       "      <td>0.0</td>\n",
       "      <td>0.0</td>\n",
       "      <td>0.0</td>\n",
       "      <td>0.0</td>\n",
       "    </tr>\n",
       "    <tr>\n",
       "      <th>1</th>\n",
       "      <td>A11_P1_M11</td>\n",
       "      <td>0.0</td>\n",
       "      <td>0.0</td>\n",
       "      <td>0.00</td>\n",
       "      <td>0.0</td>\n",
       "      <td>0.0</td>\n",
       "      <td>0.0</td>\n",
       "      <td>0.0</td>\n",
       "      <td>0.0</td>\n",
       "      <td>0.00</td>\n",
       "      <td>...</td>\n",
       "      <td>0.0</td>\n",
       "      <td>0.0</td>\n",
       "      <td>0.0</td>\n",
       "      <td>0.0</td>\n",
       "      <td>0.0</td>\n",
       "      <td>0.0</td>\n",
       "      <td>0.0</td>\n",
       "      <td>0.0</td>\n",
       "      <td>0.0</td>\n",
       "      <td>0.0</td>\n",
       "    </tr>\n",
       "    <tr>\n",
       "      <th>2</th>\n",
       "      <td>A11_P3_M11</td>\n",
       "      <td>0.0</td>\n",
       "      <td>0.0</td>\n",
       "      <td>7.99</td>\n",
       "      <td>0.0</td>\n",
       "      <td>0.0</td>\n",
       "      <td>0.0</td>\n",
       "      <td>0.0</td>\n",
       "      <td>0.0</td>\n",
       "      <td>0.00</td>\n",
       "      <td>...</td>\n",
       "      <td>0.0</td>\n",
       "      <td>0.0</td>\n",
       "      <td>0.0</td>\n",
       "      <td>0.0</td>\n",
       "      <td>0.0</td>\n",
       "      <td>0.0</td>\n",
       "      <td>0.0</td>\n",
       "      <td>0.0</td>\n",
       "      <td>0.0</td>\n",
       "      <td>0.0</td>\n",
       "    </tr>\n",
       "    <tr>\n",
       "      <th>3</th>\n",
       "      <td>A11_P4_M11</td>\n",
       "      <td>0.0</td>\n",
       "      <td>0.0</td>\n",
       "      <td>0.00</td>\n",
       "      <td>0.0</td>\n",
       "      <td>0.0</td>\n",
       "      <td>0.0</td>\n",
       "      <td>0.0</td>\n",
       "      <td>0.0</td>\n",
       "      <td>0.00</td>\n",
       "      <td>...</td>\n",
       "      <td>0.0</td>\n",
       "      <td>0.0</td>\n",
       "      <td>0.0</td>\n",
       "      <td>0.0</td>\n",
       "      <td>0.0</td>\n",
       "      <td>0.0</td>\n",
       "      <td>0.0</td>\n",
       "      <td>0.0</td>\n",
       "      <td>0.0</td>\n",
       "      <td>0.0</td>\n",
       "    </tr>\n",
       "    <tr>\n",
       "      <th>4</th>\n",
       "      <td>A12_P3_M11</td>\n",
       "      <td>0.0</td>\n",
       "      <td>0.0</td>\n",
       "      <td>0.00</td>\n",
       "      <td>0.0</td>\n",
       "      <td>0.0</td>\n",
       "      <td>0.0</td>\n",
       "      <td>0.0</td>\n",
       "      <td>0.0</td>\n",
       "      <td>0.00</td>\n",
       "      <td>...</td>\n",
       "      <td>0.0</td>\n",
       "      <td>0.0</td>\n",
       "      <td>0.0</td>\n",
       "      <td>0.0</td>\n",
       "      <td>0.0</td>\n",
       "      <td>0.0</td>\n",
       "      <td>0.0</td>\n",
       "      <td>1.1</td>\n",
       "      <td>0.0</td>\n",
       "      <td>0.0</td>\n",
       "    </tr>\n",
       "  </tbody>\n",
       "</table>\n",
       "<p>5 rows × 55738 columns</p>\n",
       "</div>"
      ],
      "text/plain": [
       "        index  TSPAN6  TNMD  DPM1  SCYL3  C1orf112  FGR  CFH  FUCA2  GCLC  \\\n",
       "0  A10_P3_M11     0.0   0.0  9.24    0.0       0.0  0.0  0.0    0.0  1.01   \n",
       "1  A11_P1_M11     0.0   0.0  0.00    0.0       0.0  0.0  0.0    0.0  0.00   \n",
       "2  A11_P3_M11     0.0   0.0  7.99    0.0       0.0  0.0  0.0    0.0  0.00   \n",
       "3  A11_P4_M11     0.0   0.0  0.00    0.0       0.0  0.0  0.0    0.0  0.00   \n",
       "4  A12_P3_M11     0.0   0.0  0.00    0.0       0.0  0.0  0.0    0.0  0.00   \n",
       "\n",
       "   ...  RP11-126K1.9  RP4-671G15.2  OR6R2P  RP11-225H22.7  RP11-731C17.2  \\\n",
       "0  ...           0.0           0.0     0.0            0.0            0.0   \n",
       "1  ...           0.0           0.0     0.0            0.0            0.0   \n",
       "2  ...           0.0           0.0     0.0            0.0            0.0   \n",
       "3  ...           0.0           0.0     0.0            0.0            0.0   \n",
       "4  ...           0.0           0.0     0.0            0.0            0.0   \n",
       "\n",
       "   RP4-621B10.8  RP11-114I8.4  RP11-180C16.1  AP000230.1  RP11-80H18.4  \n",
       "0           0.0           0.0            0.0         0.0           0.0  \n",
       "1           0.0           0.0            0.0         0.0           0.0  \n",
       "2           0.0           0.0            0.0         0.0           0.0  \n",
       "3           0.0           0.0            0.0         0.0           0.0  \n",
       "4           0.0           0.0            1.1         0.0           0.0  \n",
       "\n",
       "[5 rows x 55738 columns]"
      ]
     },
     "execution_count": 5,
     "metadata": {},
     "output_type": "execute_result"
    }
   ],
   "source": [
    "adata = pd.read_csv(\"../01-data/GSE120575_Sade_Feldman_melanoma_single_cells_TPM_GEO.txt\", delimiter=\"\\t\",skiprows=[1]).T\n",
    "\n",
    "print(adata.shape)\n",
    "adata = adata.iloc[1:,:]\n",
    "adata = adata.reset_index()\n",
    "adata.head()"
   ]
  },
  {
   "cell_type": "code",
   "execution_count": 7,
   "id": "00073427",
   "metadata": {},
   "outputs": [],
   "source": [
    "concatenated = pd.concat([index2, adata], axis=\"columns\")"
   ]
  },
  {
   "cell_type": "code",
   "execution_count": 6,
   "id": "3dd9768e",
   "metadata": {},
   "outputs": [],
   "source": [
    "import scipy\n",
    "from scipy.sparse import csr_matrix"
   ]
  },
  {
   "cell_type": "code",
   "execution_count": 8,
   "id": "500eeed9",
   "metadata": {},
   "outputs": [
    {
     "ename": "MemoryError",
     "evalue": "Unable to allocate 6.77 GiB for an array with shape (55739, 16291) and data type object",
     "output_type": "error",
     "traceback": [
      "\u001b[1;31m---------------------------------------------------------------------------\u001b[0m",
      "\u001b[1;31mMemoryError\u001b[0m                               Traceback (most recent call last)",
      "Cell \u001b[1;32mIn[8], line 1\u001b[0m\n\u001b[1;32m----> 1\u001b[0m concatenated \u001b[38;5;241m=\u001b[39m scipy\u001b[38;5;241m.\u001b[39msparse\u001b[38;5;241m.\u001b[39mcsr_matrix(\u001b[43mconcatenated\u001b[49m\u001b[38;5;241;43m.\u001b[39;49m\u001b[43mvalues\u001b[49m)\n",
      "File \u001b[1;32m~\\anaconda3\\envs\\scrnaseq\\lib\\site-packages\\pandas\\core\\frame.py:11739\u001b[0m, in \u001b[0;36mDataFrame.values\u001b[1;34m(self)\u001b[0m\n\u001b[0;32m  11666\u001b[0m \u001b[38;5;250m\u001b[39m\u001b[38;5;124;03m\"\"\"\u001b[39;00m\n\u001b[0;32m  11667\u001b[0m \u001b[38;5;124;03mReturn a Numpy representation of the DataFrame.\u001b[39;00m\n\u001b[0;32m  11668\u001b[0m \n\u001b[1;32m   (...)\u001b[0m\n\u001b[0;32m  11736\u001b[0m \u001b[38;5;124;03m       ['monkey', nan, None]], dtype=object)\u001b[39;00m\n\u001b[0;32m  11737\u001b[0m \u001b[38;5;124;03m\"\"\"\u001b[39;00m\n\u001b[0;32m  11738\u001b[0m \u001b[38;5;28mself\u001b[39m\u001b[38;5;241m.\u001b[39m_consolidate_inplace()\n\u001b[1;32m> 11739\u001b[0m \u001b[38;5;28;01mreturn\u001b[39;00m \u001b[38;5;28;43mself\u001b[39;49m\u001b[38;5;241;43m.\u001b[39;49m\u001b[43m_mgr\u001b[49m\u001b[38;5;241;43m.\u001b[39;49m\u001b[43mas_array\u001b[49m\u001b[43m(\u001b[49m\u001b[43m)\u001b[49m\n",
      "File \u001b[1;32m~\\anaconda3\\envs\\scrnaseq\\lib\\site-packages\\pandas\\core\\internals\\managers.py:1770\u001b[0m, in \u001b[0;36mBlockManager.as_array\u001b[1;34m(self, dtype, copy, na_value)\u001b[0m\n\u001b[0;32m   1768\u001b[0m             arr \u001b[38;5;241m=\u001b[39m arr\u001b[38;5;241m.\u001b[39mastype(dtype, copy\u001b[38;5;241m=\u001b[39m\u001b[38;5;28;01mFalse\u001b[39;00m)\n\u001b[0;32m   1769\u001b[0m \u001b[38;5;28;01melse\u001b[39;00m:\n\u001b[1;32m-> 1770\u001b[0m     arr \u001b[38;5;241m=\u001b[39m \u001b[38;5;28;43mself\u001b[39;49m\u001b[38;5;241;43m.\u001b[39;49m\u001b[43m_interleave\u001b[49m\u001b[43m(\u001b[49m\u001b[43mdtype\u001b[49m\u001b[38;5;241;43m=\u001b[39;49m\u001b[43mdtype\u001b[49m\u001b[43m,\u001b[49m\u001b[43m \u001b[49m\u001b[43mna_value\u001b[49m\u001b[38;5;241;43m=\u001b[39;49m\u001b[43mna_value\u001b[49m\u001b[43m)\u001b[49m\n\u001b[0;32m   1771\u001b[0m     \u001b[38;5;66;03m# The underlying data was copied within _interleave\u001b[39;00m\n\u001b[0;32m   1772\u001b[0m     copy \u001b[38;5;241m=\u001b[39m \u001b[38;5;28;01mFalse\u001b[39;00m\n",
      "File \u001b[1;32m~\\anaconda3\\envs\\scrnaseq\\lib\\site-packages\\pandas\\core\\internals\\managers.py:1809\u001b[0m, in \u001b[0;36mBlockManager._interleave\u001b[1;34m(self, dtype, na_value)\u001b[0m\n\u001b[0;32m   1806\u001b[0m \u001b[38;5;28;01melif\u001b[39;00m is_dtype_equal(dtype, \u001b[38;5;28mstr\u001b[39m):\n\u001b[0;32m   1807\u001b[0m     dtype \u001b[38;5;241m=\u001b[39m np\u001b[38;5;241m.\u001b[39mdtype(\u001b[38;5;124m\"\u001b[39m\u001b[38;5;124mobject\u001b[39m\u001b[38;5;124m\"\u001b[39m)\n\u001b[1;32m-> 1809\u001b[0m result \u001b[38;5;241m=\u001b[39m \u001b[43mnp\u001b[49m\u001b[38;5;241;43m.\u001b[39;49m\u001b[43mempty\u001b[49m\u001b[43m(\u001b[49m\u001b[38;5;28;43mself\u001b[39;49m\u001b[38;5;241;43m.\u001b[39;49m\u001b[43mshape\u001b[49m\u001b[43m,\u001b[49m\u001b[43m \u001b[49m\u001b[43mdtype\u001b[49m\u001b[38;5;241;43m=\u001b[39;49m\u001b[43mdtype\u001b[49m\u001b[43m)\u001b[49m\n\u001b[0;32m   1811\u001b[0m itemmask \u001b[38;5;241m=\u001b[39m np\u001b[38;5;241m.\u001b[39mzeros(\u001b[38;5;28mself\u001b[39m\u001b[38;5;241m.\u001b[39mshape[\u001b[38;5;241m0\u001b[39m])\n\u001b[0;32m   1813\u001b[0m \u001b[38;5;28;01mif\u001b[39;00m dtype \u001b[38;5;241m==\u001b[39m np\u001b[38;5;241m.\u001b[39mdtype(\u001b[38;5;124m\"\u001b[39m\u001b[38;5;124mobject\u001b[39m\u001b[38;5;124m\"\u001b[39m) \u001b[38;5;129;01mand\u001b[39;00m na_value \u001b[38;5;129;01mis\u001b[39;00m lib\u001b[38;5;241m.\u001b[39mno_default:\n\u001b[0;32m   1814\u001b[0m     \u001b[38;5;66;03m# much more performant than using to_numpy below\u001b[39;00m\n",
      "\u001b[1;31mMemoryError\u001b[0m: Unable to allocate 6.77 GiB for an array with shape (55739, 16291) and data type object"
     ]
    }
   ],
   "source": [
    "concatenated = scipy.sparse.csr_matrix(concatenated.values)"
   ]
  },
  {
   "cell_type": "code",
   "execution_count": null,
   "id": "0b61af6d",
   "metadata": {},
   "outputs": [],
   "source": [
    "print(concatenated.shape)\n",
    "concatenated = concatenated.dropna(how='all')\n",
    "print(concatenated.shape)\n",
    "\n",
    "concatenated"
   ]
  },
  {
   "cell_type": "code",
   "execution_count": null,
   "id": "57f8e051",
   "metadata": {},
   "outputs": [],
   "source": [
    "# df['C'] = df.assign(index=df.index.astype(str)).agg(''.join, 1)\n",
    "# concatenated['full_index'] = concatenated.assign(index=concatenated[0].astype(str).agg('_'.join,1)\n",
    "\n",
    "concatenated['full_index'] = concatenated['index'] + \"-\" +concatenated['index2']\n",
    "concatenated = concatenated.drop('index2', axis = 1)\n",
    "concatenated = concatenated.drop('index', axis = 1)\n",
    "concatenated = concatenated.set_index(\"full_index\")\n",
    "concatenated.head()\n",
    "\n"
   ]
  },
  {
   "cell_type": "code",
   "execution_count": null,
   "id": "9fe8a6c6",
   "metadata": {},
   "outputs": [],
   "source": []
  },
  {
   "cell_type": "code",
   "execution_count": null,
   "id": "57f67a96",
   "metadata": {},
   "outputs": [],
   "source": [
    "concatenated.to_csv('../01-data/concat_data.csv')"
   ]
  },
  {
   "cell_type": "code",
   "execution_count": null,
   "id": "31ecc952",
   "metadata": {},
   "outputs": [],
   "source": [
    "adata = sc.read_csv(\"../01-data/concat_data.csv\")\n",
    "\n",
    "# print(adata.shape)\n",
    "# adata = adata.iloc[1:,:]\n",
    "# adata.head()"
   ]
  },
  {
   "cell_type": "code",
   "execution_count": null,
   "id": "4126bf4a",
   "metadata": {},
   "outputs": [],
   "source": [
    "# bdata = sc.read(concatenated)\n",
    "# bdata = sc.read_text(concatenated)\n",
    "\n",
    "# bdata.X  = sc.read_text(concatenated)\n",
    "\n",
    "adata"
   ]
  },
  {
   "cell_type": "code",
   "execution_count": null,
   "id": "32f471a9",
   "metadata": {},
   "outputs": [],
   "source": [
    "adata.var['mt'] = adata.var.index.str.startswith('MT-')\n",
    "adata"
   ]
  },
  {
   "cell_type": "code",
   "execution_count": null,
   "id": "fb1a3cda",
   "metadata": {},
   "outputs": [],
   "source": []
  },
  {
   "cell_type": "code",
   "execution_count": null,
   "id": "6d810224",
   "metadata": {},
   "outputs": [],
   "source": [
    "# adata.raw.var_names = \n",
    "gene_list = adata.raw.var_names.tolist()"
   ]
  },
  {
   "cell_type": "code",
   "execution_count": null,
   "id": "2e8604f8",
   "metadata": {},
   "outputs": [],
   "source": [
    "adata.var.rename(columns = {'_index':'index','features':'gene_symbols'}, inplace = True)\n",
    "adata.var = adata.var.set_index(\"index\")\n",
    "adata.var.head(2)"
   ]
  },
  {
   "cell_type": "code",
   "execution_count": null,
   "id": "fec3b9d5",
   "metadata": {
    "scrolled": false
   },
   "outputs": [],
   "source": [
    "sc.pp.highly_variable_genes(adata, n_top_genes = 3000)"
   ]
  },
  {
   "cell_type": "code",
   "execution_count": null,
   "id": "4e0793bd",
   "metadata": {},
   "outputs": [],
   "source": [
    "adata.X"
   ]
  },
  {
   "cell_type": "code",
   "execution_count": null,
   "id": "0c5bba30",
   "metadata": {},
   "outputs": [],
   "source": [
    "sc.pl.highly_variable_genes(adata)"
   ]
  },
  {
   "cell_type": "code",
   "execution_count": null,
   "id": "9ba0b28f",
   "metadata": {},
   "outputs": [],
   "source": [
    "pbmc = sc.datasets.pbmc68k_reduced()"
   ]
  },
  {
   "cell_type": "code",
   "execution_count": null,
   "id": "2e76c767",
   "metadata": {},
   "outputs": [],
   "source": [
    "pbmc"
   ]
  },
  {
   "cell_type": "code",
   "execution_count": null,
   "id": "7dd58b38",
   "metadata": {},
   "outputs": [],
   "source": [
    "adata_ref = adata.copy()\n",
    "pbmc_query = pbmc.copy()"
   ]
  },
  {
   "cell_type": "code",
   "execution_count": null,
   "id": "33de73a5",
   "metadata": {},
   "outputs": [],
   "source": []
  },
  {
   "cell_type": "code",
   "execution_count": null,
   "id": "098f1699",
   "metadata": {},
   "outputs": [],
   "source": []
  },
  {
   "cell_type": "code",
   "execution_count": null,
   "id": "6d97c945",
   "metadata": {},
   "outputs": [],
   "source": []
  },
  {
   "cell_type": "code",
   "execution_count": null,
   "id": "5372bfcd",
   "metadata": {},
   "outputs": [],
   "source": [
    "print(len(pbmc.obs.bulk_labels.unique()))\n",
    "pbmc.obs.bulk_labels.unique()"
   ]
  },
  {
   "cell_type": "code",
   "execution_count": null,
   "id": "e7d02589",
   "metadata": {},
   "outputs": [],
   "source": [
    "sc.pl.umap(pbmc, color=\"louvain\")"
   ]
  },
  {
   "cell_type": "code",
   "execution_count": null,
   "id": "45c5dbca",
   "metadata": {},
   "outputs": [],
   "source": [
    "sc.external.pl.sam(adata, projection='X_umap', c=None, cmap='Spectral_r', linewidth=0.0, edgecolor='k', axes=None, colorbar=True, s=10.0)"
   ]
  },
  {
   "cell_type": "code",
   "execution_count": null,
   "id": "f776fa67",
   "metadata": {},
   "outputs": [],
   "source": [
    "sc.external.pl.sam(pbmc, projection='X_umap', c=None, cmap='Spectral_r', linewidth=0.0, edgecolor='k', axes=None, colorbar=True, s=10.0)"
   ]
  },
  {
   "cell_type": "code",
   "execution_count": null,
   "id": "3d5c9202",
   "metadata": {},
   "outputs": [],
   "source": [
    "sc.pl.umap(adata, color=['CD8A','IL2RA','IL2RB','IL2RG'],vmax=20)"
   ]
  },
  {
   "cell_type": "code",
   "execution_count": null,
   "id": "cf7ec1b5",
   "metadata": {},
   "outputs": [],
   "source": [
    "#filter to only include HVGs\n",
    "adata_HVG = adata[:, adata.var.highly_variable]\n",
    "adata_HVG"
   ]
  },
  {
   "cell_type": "code",
   "execution_count": null,
   "id": "85502140",
   "metadata": {},
   "outputs": [],
   "source": [
    "adata_HVG.obsm"
   ]
  },
  {
   "cell_type": "code",
   "execution_count": null,
   "id": "cad68f9d",
   "metadata": {},
   "outputs": [],
   "source": [
    "cell_types = adata.obs.cell_type.unique()\n",
    "cell_types = cell_types.tolist()"
   ]
  },
  {
   "cell_type": "code",
   "execution_count": null,
   "id": "090f4e16",
   "metadata": {},
   "outputs": [],
   "source": [
    "cell_category_dict = {\n",
    "    'Mast cells': 'B cells',\n",
    "    'Plasma B cells': 'B cells',\n",
    "    'B cells': 'B cells',\n",
    "    'Proliferative B cells': 'B cells',\n",
    "    'Recently activated CD4 T cells': 'T cells',    \n",
    "    'Naive-memory CD4 T cells': 'T cells',\n",
    "    'Effector memory CD8 T cells': 'T cells',\n",
    "    'Terminally exhausted CD8 T cells': 'T cells',\n",
    "    'Transitional memory CD4 T cells': 'T cells',\n",
    "    'T helper cells': 'T cells',\n",
    "    'Pre-exhausted CD8 T cells': 'T cells',\n",
    "    'Proliferative T cells': 'T cells',  \n",
    "    'Cytotoxic CD8 T cells': 'T cells',\n",
    "    'Naive T cells': 'T cells',\n",
    "    'Regulatory T cells': 'T cells',\n",
    "    'Th17 cells': 'T cells',\n",
    "    'Proliferative monocytes and macrophages':'Monocytes & Macrophages',\n",
    "    'M2 TAMs': 'TAMs',   \n",
    "    'SPP1 TAMs': 'TAMs',\n",
    "    'Proinflamatory TAMs': 'TAMs',\n",
    "    'NK': 'NK cells',\n",
    "    'pDC': 'DCs',\n",
    "    'cDC': 'DCs',\n",
    "    'mDC': 'DCs',\n",
    "    'Monocytes': 'Monocytes & Macrophages',      \n",
    "}\n",
    "adata.obs['cell_category'] = adata.obs['cell_type'].map(cell_category_dict).astype('category')"
   ]
  },
  {
   "cell_type": "code",
   "execution_count": null,
   "id": "36d5af26",
   "metadata": {},
   "outputs": [],
   "source": [
    "cytokine_genes_dict = {\n",
    "    'IL2R': ['IL2RA', 'IL2RB', 'IL2RG'],\n",
    "    'IL10': ['IL10RA', 'IL10RB'],\n",
    "    'IL12': ['IL12RB2']\n",
    "}"
   ]
  },
  {
   "cell_type": "code",
   "execution_count": null,
   "id": "bff19313",
   "metadata": {},
   "outputs": [],
   "source": [
    "tis_genes_dict = {\n",
    "    'Antigen Presenting': ['PSMB10','CMKLR1'],\n",
    "    'T cell/ NK cell': ['NKG7', 'CD8A'],\n",
    "    'IFN Activity': ['CCL5', 'CXCL9', 'CD27', 'CXCR6','IDO1','STAT1'],\n",
    "    'T Cell Exhaustion': ['TIGIT', 'LAG3', 'CD274','PDCD1LG2','CD276']\n",
    "}\n",
    "# excluding '['HLA-DQA1', 'HLA-DRB1', 'HLA-E']'"
   ]
  },
  {
   "cell_type": "code",
   "execution_count": null,
   "id": "a7798792",
   "metadata": {},
   "outputs": [],
   "source": [
    "gene1 = 'IL2RA'\n",
    "gene2 = 'CD3E'\n",
    "gene3 = 'CD8A'\n",
    "\n",
    "coex = ((adata.raw[:,'{}'.format(gene1)].X.todense() > 2) & (adata.raw[:,'{}'.format(gene2)].X.todense() > 2)) & (adata.raw[:,'{}'.format(gene3)].X.todense() > 2)\n",
    "\n",
    "coex_list = [item for sublist in coex.tolist() for item in sublist]\n",
    "adata.obs['CoEx'] = pd.Categorical(coex_list, categories=[True, False])\n",
    "\n",
    "# adata.obs['CoEx'] = (adata.raw[:,'{}'.format(gene1)].X.todense() > 0) & (adata.raw[:,'{}'.format(gene2)].X.todense() > 0) \n",
    "#                     (adata.raw[:,'{}'.format(gene3)].X.todense() > 0)\n",
    "adata.obs"
   ]
  },
  {
   "cell_type": "code",
   "execution_count": null,
   "id": "5260f7bb",
   "metadata": {},
   "outputs": [],
   "source": [
    "# # filter rows for year does not equal to 2002\n",
    "# >gapminder_not_2002 = gapminder[gapminder['year']!=2002]\n",
    "# >gapminder_not_2002.shape\n",
    "# (1562, 6)\n",
    "\n",
    "\n",
    "coexdata = adata.obs[adata.obs['CoEx']==True]\n",
    "coexdata\n",
    "coexdata.groupby(\"cell_type\").count()"
   ]
  },
  {
   "cell_type": "code",
   "execution_count": null,
   "id": "14273ba7",
   "metadata": {},
   "outputs": [],
   "source": [
    "sc.pl.umap(adata, color='CoEx', groups=[True])"
   ]
  },
  {
   "cell_type": "code",
   "execution_count": null,
   "id": "05c1a2e2",
   "metadata": {},
   "outputs": [],
   "source": [
    "# with rc_context({'figure.figsize': (4.5, 3)}):\n",
    "#     sc.pl.violin(adata, ['TIGIT', 'LAG3', 'CD274','PDCD1LG2','CD276'])"
   ]
  },
  {
   "cell_type": "code",
   "execution_count": null,
   "id": "9032b435",
   "metadata": {},
   "outputs": [],
   "source": [
    "sc.pl.matrixplot(adata, tis_genes_dict, 'cell_type', dendrogram=False, cmap='Blues', standard_scale='var', colorbar_title='column scaled\\nexpression')\n"
   ]
  },
  {
   "cell_type": "code",
   "execution_count": null,
   "id": "020f645e",
   "metadata": {
    "scrolled": false
   },
   "outputs": [],
   "source": [
    "sc.pl.matrixplot(adata, cytokine_genes_dict, 'cell_type', dendrogram=True, cmap='Blues', standard_scale='var', colorbar_title='column scaled\\nexpression')\n"
   ]
  },
  {
   "cell_type": "code",
   "execution_count": null,
   "id": "fd7b33e9",
   "metadata": {
    "scrolled": true
   },
   "outputs": [],
   "source": [
    "# with rc_context({'figure.figsize': (4.5, 3)}):\n",
    "# ax = sc.pl.stacked_violin(pbmc, marker_genes_dict, groupby = 'clusters')\n",
    "ax = sc.pl.stacked_violin(adata, marker_genes_dict, groupby='cell_type', swap_axes=False, dendrogram=True)\n"
   ]
  },
  {
   "cell_type": "code",
   "execution_count": null,
   "id": "bf817c21",
   "metadata": {},
   "outputs": [],
   "source": [
    "sc.pl.highly_variable_genes(adata)"
   ]
  },
  {
   "cell_type": "code",
   "execution_count": null,
   "id": "7b2db0fd",
   "metadata": {
    "scrolled": true
   },
   "outputs": [],
   "source": [
    "adata.obs.groupby(\"patient\").count()"
   ]
  },
  {
   "cell_type": "code",
   "execution_count": null,
   "id": "6a238207",
   "metadata": {},
   "outputs": [],
   "source": []
  },
  {
   "cell_type": "code",
   "execution_count": null,
   "id": "c1603732",
   "metadata": {},
   "outputs": [],
   "source": [
    "adata"
   ]
  },
  {
   "cell_type": "code",
   "execution_count": null,
   "id": "d1b8bc92",
   "metadata": {},
   "outputs": [],
   "source": [
    "sc.pl.umap(adata, color = ['cell_type'], frameon = False)"
   ]
  },
  {
   "cell_type": "code",
   "execution_count": null,
   "id": "2ab6bc74",
   "metadata": {},
   "outputs": [],
   "source": [
    "with rc_context({'figure.figsize': (5, 5)}):\n",
    "    sc.pl.umap(adata, color='cell_type', legend_loc='right margin',\n",
    "               legend_fontsize=12, legend_fontoutline=2,frameon=False,\n",
    "               title='clustering of cells', palette='Set1')"
   ]
  },
  {
   "cell_type": "code",
   "execution_count": null,
   "id": "db1a00ce",
   "metadata": {},
   "outputs": [],
   "source": []
  },
  {
   "cell_type": "code",
   "execution_count": null,
   "id": "cc2c22b3",
   "metadata": {},
   "outputs": [],
   "source": []
  }
 ],
 "metadata": {
  "kernelspec": {
   "display_name": "Python 3 (ipykernel)",
   "language": "python",
   "name": "python3"
  },
  "language_info": {
   "codemirror_mode": {
    "name": "ipython",
    "version": 3
   },
   "file_extension": ".py",
   "mimetype": "text/x-python",
   "name": "python",
   "nbconvert_exporter": "python",
   "pygments_lexer": "ipython3",
   "version": "3.9.16"
  }
 },
 "nbformat": 4,
 "nbformat_minor": 5
}
